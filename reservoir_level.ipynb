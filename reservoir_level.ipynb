{
 "cells": [
  {
   "cell_type": "code",
   "execution_count": 1,
   "metadata": {},
   "outputs": [
    {
     "name": "stdout",
     "output_type": "stream",
     "text": [
      "The current water level is 1.94523721875e+87\n"
     ]
    }
   ],
   "source": [
    "'''\n",
    "Problem statement:\n",
    "A dam reservoir's capacity is 250e100 cubic metre where it holds 199.5e85 cu.m water.\n",
    "A rain occured in the area which gave 25e8 cu.m water but 25% amount of this rain water ran-off useless. \n",
    "The remaining water from this rainfall flowed to the reservoir and there it was collected. \n",
    "On another day, a heavy storm increased the water level of this dam to its 15% of the current water level.\n",
    "Ground water sources contributed 5% to reservoir's current level. \n",
    "5% of the present level of reservoir evaporated and later 15% amount of water was passed for irrigation to arid regions. \n",
    "Write a program to find the current water level of the reservoir?\n",
    "\n",
    "Assumed Variables:\n",
    "c=capacty\n",
    "wh=water_hold\n",
    "rf=rain_off\n",
    "r=remaining\n",
    "i=increase\n",
    "g=ground\n",
    "e=evaporated\n",
    "ir=irrigation\n",
    "\n",
    "Solution:After declaring all the values, we calculate the values required to determine the current level of water \n",
    "'''\n",
    "c=256e100\n",
    "wh=199.5e85\n",
    "rf=25/100*25e8\n",
    "r=25e8-rf\n",
    "wh+=r\n",
    "i=15/100*wh\n",
    "wh+=i\n",
    "g=5/100*wh\n",
    "wh+=g\n",
    "e=5/100*wh\n",
    "wh-=e\n",
    "ir=15/100*wh\n",
    "wh-=ir\n",
    "print(\"The current water level is\",wh)"
   ]
  },
  {
   "cell_type": "code",
   "execution_count": null,
   "metadata": {},
   "outputs": [],
   "source": []
  }
 ],
 "metadata": {
  "kernelspec": {
   "display_name": "Python 3",
   "language": "python",
   "name": "python3"
  },
  "language_info": {
   "codemirror_mode": {
    "name": "ipython",
    "version": 3
   },
   "file_extension": ".py",
   "mimetype": "text/x-python",
   "name": "python",
   "nbconvert_exporter": "python",
   "pygments_lexer": "ipython3",
   "version": "3.7.3"
  }
 },
 "nbformat": 4,
 "nbformat_minor": 2
}
